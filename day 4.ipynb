{
 "cells": [
  {
   "cell_type": "markdown",
   "metadata": {},
   "source": [
    "Control flow statement in python"
   ]
  },
  {
   "cell_type": "markdown",
   "metadata": {},
   "source": [
    "if condition"
   ]
  },
  {
   "cell_type": "markdown",
   "metadata": {},
   "source": [
    "write a program to calculate the percentage of a student in the subject maths science eng and hindi"
   ]
  },
  {
   "cell_type": "code",
   "execution_count": 1,
   "metadata": {},
   "outputs": [
    {
     "name": "stdout",
     "output_type": "stream",
     "text": [
      "prashu\n",
      "78\n",
      "67\n",
      "56\n",
      "46\n",
      "69\n",
      "the percentage of student is 63.2\n"
     ]
    }
   ],
   "source": [
    "x=input(\"enter the name of student\")\n",
    "a=int(input(\"enter the marks scored in hindi\"))\n",
    "b=int(input(\"enter the marks scored in english\"))\n",
    "c=int(input(\"enter the marks scored in maths\"))\n",
    "d=int(input(\"enter the marks scored in science\"))\n",
    "e=int(input(\"enter the marks scored in social\"))\n",
    "n=((a+b+c+d+e)/500)*100\n",
    "print(x)\n",
    "print(a)\n",
    "print(b)\n",
    "print(c)\n",
    "print(d)\n",
    "print(e)\n",
    "print(\"the percentage of student is\",n)\n"
   ]
  },
  {
   "cell_type": "code",
   "execution_count": 2,
   "metadata": {},
   "outputs": [
    {
     "name": "stdout",
     "output_type": "stream",
     "text": [
      "B grade\n"
     ]
    }
   ],
   "source": [
    "a=int(input(\"enter your percentage\"))\n",
    "if a>=90:\n",
    "    print(\"A grade\")\n",
    "if a>=75 and a<90:\n",
    "    print(\"B grade\")\n",
    "if a>=65 and a<75:\n",
    "    print(\"C grade\")\n",
    "\n"
   ]
  },
  {
   "cell_type": "markdown",
   "metadata": {},
   "source": [
    "if else condition"
   ]
  },
  {
   "cell_type": "markdown",
   "metadata": {},
   "source": [
    "write a progrm to display hello if number entered by a user is a multiple of 5 else print bye"
   ]
  },
  {
   "cell_type": "code",
   "execution_count": 3,
   "metadata": {},
   "outputs": [
    {
     "name": "stdout",
     "output_type": "stream",
     "text": [
      "Bye\n"
     ]
    }
   ],
   "source": [
    "a =int(input(\"enter the number\"))\n",
    "if a%5==0:\n",
    "    print(\"helo\")\n",
    "else:\n",
    "    print(\"Bye\")    "
   ]
  },
  {
   "cell_type": "markdown",
   "metadata": {},
   "source": [
    "if -elif- else"
   ]
  },
  {
   "cell_type": "markdown",
   "metadata": {},
   "source": [
    "accept the city and print its monument\n",
    "Delhi- red fort\n",
    "Agra- Tajmahal \n",
    "Jaipur-jalmahal\n",
    "Orissa- konark temple\n",
    "Hydrabad- charminar\n",
    "other-record not found"
   ]
  },
  {
   "cell_type": "code",
   "execution_count": 8,
   "metadata": {},
   "outputs": [
    {
     "name": "stdout",
     "output_type": "stream",
     "text": [
      "record not found\n"
     ]
    }
   ],
   "source": [
    "city =input(\"enter your city\")\n",
    "if city == \"delhi\":\n",
    "    print(\"Redfort\")\n",
    "elif city== \"agra\":\n",
    "    print(\"tajmahal\")\n",
    "elif city==\"jaipur\":\n",
    "    print(\"jalmahal\")\n",
    "elif city==\"orissa\":\n",
    "    print(\"konark temple\")\n",
    "else:\n",
    "    print(\"record not found\")    \n"
   ]
  }
 ],
 "metadata": {
  "kernelspec": {
   "display_name": "base",
   "language": "python",
   "name": "python3"
  },
  "language_info": {
   "codemirror_mode": {
    "name": "ipython",
    "version": 3
   },
   "file_extension": ".py",
   "mimetype": "text/x-python",
   "name": "python",
   "nbconvert_exporter": "python",
   "pygments_lexer": "ipython3",
   "version": "3.10.10"
  },
  "orig_nbformat": 4
 },
 "nbformat": 4,
 "nbformat_minor": 2
}
