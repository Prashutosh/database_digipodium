{
 "cells": [
  {
   "cell_type": "markdown",
   "metadata": {},
   "source": [
    "List in python"
   ]
  },
  {
   "cell_type": "markdown",
   "metadata": {},
   "source": [
    "creating a list"
   ]
  },
  {
   "cell_type": "code",
   "execution_count": 1,
   "metadata": {},
   "outputs": [
    {
     "name": "stdout",
     "output_type": "stream",
     "text": [
      "['apple', 'banana', 'cherry']\n",
      "<class 'list'>\n"
     ]
    }
   ],
   "source": [
    "mylist=[\"apple\",\"banana\",\"cherry\"]\n",
    "print(mylist)\n",
    "print(type(mylist))"
   ]
  },
  {
   "cell_type": "markdown",
   "metadata": {},
   "source": [
    "allow duplicates"
   ]
  },
  {
   "cell_type": "code",
   "execution_count": 2,
   "metadata": {},
   "outputs": [
    {
     "name": "stdout",
     "output_type": "stream",
     "text": [
      "['apple', 'banana', 'apple', 'banana']\n"
     ]
    }
   ],
   "source": [
    "mylist= [\"apple\",\"banana\",\"apple\",\"banana\"]\n",
    "print(mylist)"
   ]
  },
  {
   "cell_type": "markdown",
   "metadata": {},
   "source": [
    "mixed lists"
   ]
  },
  {
   "cell_type": "code",
   "execution_count": 3,
   "metadata": {},
   "outputs": [
    {
     "name": "stdout",
     "output_type": "stream",
     "text": [
      "[12, -8, 2.5, 'student', True, False]\n"
     ]
    }
   ],
   "source": [
    "a= [12,-8,2.5,\"student\",True,False]\n",
    "print(a)\n"
   ]
  },
  {
   "cell_type": "markdown",
   "metadata": {},
   "source": [
    "list length"
   ]
  },
  {
   "cell_type": "code",
   "execution_count": 4,
   "metadata": {},
   "outputs": [
    {
     "name": "stdout",
     "output_type": "stream",
     "text": [
      "6\n"
     ]
    }
   ],
   "source": [
    "a= [12,-8,2.5,\"student\",True,False]\n",
    "print(len(a))\n"
   ]
  },
  {
   "cell_type": "markdown",
   "metadata": {},
   "source": [
    "Access items"
   ]
  },
  {
   "cell_type": "code",
   "execution_count": 5,
   "metadata": {},
   "outputs": [
    {
     "name": "stdout",
     "output_type": "stream",
     "text": [
      "56\n",
      "74\n"
     ]
    }
   ],
   "source": [
    "thislist=[12,34,56,78,98,65,74,87,]\n",
    "print(thislist[2])\n",
    "print(thislist[-2])"
   ]
  },
  {
   "cell_type": "markdown",
   "metadata": {},
   "source": [
    "slicing of list"
   ]
  },
  {
   "cell_type": "code",
   "execution_count": 6,
   "metadata": {},
   "outputs": [
    {
     "name": "stdout",
     "output_type": "stream",
     "text": [
      "[12, 34, 56, 78, 98, 65]\n",
      "[12, 78, 74]\n"
     ]
    }
   ],
   "source": [
    "thislist=[12,34,56,78,98,65,74,87,]\n",
    "print(thislist[0:6])\n",
    "print(thislist[::3])"
   ]
  },
  {
   "cell_type": "markdown",
   "metadata": {},
   "source": [
    "change list"
   ]
  },
  {
   "cell_type": "code",
   "execution_count": 7,
   "metadata": {},
   "outputs": [
    {
     "name": "stdout",
     "output_type": "stream",
     "text": [
      "['apple', 'guava', 'grapes']\n"
     ]
    }
   ],
   "source": [
    "thislist=[\"apple\",\"banana\",\"grapes\"]\n",
    "thislist[1]=\"guava\"\n",
    "print(thislist)"
   ]
  },
  {
   "cell_type": "code",
   "execution_count": 8,
   "metadata": {},
   "outputs": [
    {
     "name": "stdout",
     "output_type": "stream",
     "text": [
      "[12, 34, 333, 555, 777, 444, 65, 74, 87]\n"
     ]
    }
   ],
   "source": [
    "thislist=[12,34,56,78,98,65,74,87,]\n",
    "thislist[4]=444\n",
    "thislist[2:4]=333,555,777\n",
    "print(thislist)\n"
   ]
  },
  {
   "cell_type": "code",
   "execution_count": 9,
   "metadata": {},
   "outputs": [
    {
     "name": "stdout",
     "output_type": "stream",
     "text": [
      "[12, 34, 56, 78, 98, 65, 74, 87, 100]\n"
     ]
    }
   ],
   "source": [
    "thislist=[12,34,56,78,98,65,74,87,]\n",
    "thislist.append(100)\n",
    "print(thislist)"
   ]
  },
  {
   "cell_type": "code",
   "execution_count": 10,
   "metadata": {},
   "outputs": [
    {
     "name": "stdout",
     "output_type": "stream",
     "text": [
      "[12, 34, 56, 78, 65, 74, 87]\n"
     ]
    }
   ],
   "source": [
    "thislist=[12,34,56,78,98,65,74,87,]\n",
    "thislist.remove(98)\n",
    "print(thislist)"
   ]
  },
  {
   "cell_type": "code",
   "execution_count": 11,
   "metadata": {},
   "outputs": [
    {
     "name": "stdout",
     "output_type": "stream",
     "text": [
      "[87, 74, 65, 98, 78, 56, 34, 12]\n"
     ]
    }
   ],
   "source": [
    "thislist=[12,34,56,78,98,65,74,87,]\n",
    "thislist.reverse()\n",
    "print(thislist)"
   ]
  },
  {
   "cell_type": "code",
   "execution_count": 12,
   "metadata": {},
   "outputs": [
    {
     "name": "stdout",
     "output_type": "stream",
     "text": [
      "8\n",
      "the sum of the list is 504\n"
     ]
    }
   ],
   "source": [
    "thislist=[12,34,56,78,98,65,74,87,]\n",
    "print(len(thislist))\n",
    "a=0\n",
    "for i in range(8):\n",
    "   a= a + thislist[i]\n",
    "   i=i+1\n",
    "print(\"the sum of the list is\",a)"
   ]
  }
 ],
 "metadata": {
  "kernelspec": {
   "display_name": "base",
   "language": "python",
   "name": "python3"
  },
  "language_info": {
   "codemirror_mode": {
    "name": "ipython",
    "version": 3
   },
   "file_extension": ".py",
   "mimetype": "text/x-python",
   "name": "python",
   "nbconvert_exporter": "python",
   "pygments_lexer": "ipython3",
   "version": "3.10.10"
  },
  "orig_nbformat": 4
 },
 "nbformat": 4,
 "nbformat_minor": 2
}
