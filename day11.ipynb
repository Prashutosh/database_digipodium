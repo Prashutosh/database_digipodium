{
 "cells": [
  {
   "cell_type": "markdown",
   "metadata": {},
   "source": [
    "SETS"
   ]
  },
  {
   "cell_type": "code",
   "execution_count": 17,
   "metadata": {},
   "outputs": [
    {
     "name": "stdout",
     "output_type": "stream",
     "text": [
      "{'animals', 'balls', 'cat'}\n",
      "<class 'set'>\n"
     ]
    }
   ],
   "source": [
    "a={\"animals\",\"balls\",\"cat\"}\n",
    "print(a)\n",
    "print(type(a))"
   ]
  },
  {
   "cell_type": "markdown",
   "metadata": {},
   "source": [
    "sets items are unordered"
   ]
  },
  {
   "cell_type": "markdown",
   "metadata": {},
   "source": [
    "duplictes are not allowed"
   ]
  },
  {
   "cell_type": "code",
   "execution_count": 18,
   "metadata": {},
   "outputs": [
    {
     "name": "stdout",
     "output_type": "stream",
     "text": [
      "{'animals', 'balls', 'cats'}\n"
     ]
    }
   ],
   "source": [
    "a ={\"animals\",\"balls\",\"cats\",\"animals\",\"balls\",\"balls\",}\n",
    "print(a)"
   ]
  },
  {
   "cell_type": "markdown",
   "metadata": {},
   "source": [
    "True and 1 is consider the same value"
   ]
  },
  {
   "cell_type": "code",
   "execution_count": 19,
   "metadata": {},
   "outputs": [
    {
     "name": "stdout",
     "output_type": "stream",
     "text": [
      "{'animals', 1, 2, 3, 'cats', 'balls'}\n"
     ]
    }
   ],
   "source": [
    "a ={\"animals\",\"balls\",\"cats\",\"animals\",\"balls\",\"balls\",1,2,3,True}\n",
    "print(a)"
   ]
  },
  {
   "cell_type": "markdown",
   "metadata": {},
   "source": [
    "Length of a set"
   ]
  },
  {
   "cell_type": "code",
   "execution_count": 20,
   "metadata": {},
   "outputs": [
    {
     "name": "stdout",
     "output_type": "stream",
     "text": [
      "{'animals', 1, 2, 3, 'cats', 'balls'}\n",
      "6\n"
     ]
    }
   ],
   "source": [
    "a ={\"animals\",\"balls\",\"cats\",\"animals\",\"balls\",\"balls\",1,2,3,True}\n",
    "print(a)\n",
    "print(len(a))"
   ]
  },
  {
   "cell_type": "markdown",
   "metadata": {},
   "source": [
    "Set items -Data types"
   ]
  },
  {
   "cell_type": "code",
   "execution_count": 21,
   "metadata": {},
   "outputs": [
    {
     "name": "stdout",
     "output_type": "stream",
     "text": [
      "{1, 2, 3, 4, 5} {1.2, 2.3, 3.4, 4.5} {False, True} {'B', 'C', 'A'}\n"
     ]
    }
   ],
   "source": [
    "a={1,2,3,4,5}\n",
    "b={1.2,2.3,3.4,4.5}\n",
    "c={True,False,True}\n",
    "d={\"A\",\"B\",\"C\"}\n",
    "print(a,b,c,d)"
   ]
  },
  {
   "cell_type": "code",
   "execution_count": 22,
   "metadata": {},
   "outputs": [
    {
     "name": "stdout",
     "output_type": "stream",
     "text": [
      "{1, 2, 3, 4, 5, 'apple', 'banana', (6+4j)}\n",
      "<class 'set'>\n"
     ]
    }
   ],
   "source": [
    "k={1,2,3,4,5,\"apple\",\"banana\",(6+4j)}\n",
    "print(k)\n",
    "print(type(k))"
   ]
  },
  {
   "cell_type": "markdown",
   "metadata": {},
   "source": [
    "The set() constructor"
   ]
  },
  {
   "cell_type": "code",
   "execution_count": 23,
   "metadata": {},
   "outputs": [
    {
     "name": "stdout",
     "output_type": "stream",
     "text": [
      "{'gamma', 'alpha', 'beta'}\n",
      "<class 'set'>\n"
     ]
    }
   ],
   "source": [
    "thisset=set((\"alpha\",\"beta\",\"gamma\"))\n",
    "print(thisset)\n",
    "print(type(thisset))"
   ]
  },
  {
   "cell_type": "markdown",
   "metadata": {},
   "source": [
    "Access items"
   ]
  },
  {
   "cell_type": "code",
   "execution_count": 24,
   "metadata": {},
   "outputs": [
    {
     "name": "stdout",
     "output_type": "stream",
     "text": [
      "b\n",
      "a\n",
      "d\n",
      "c\n"
     ]
    }
   ],
   "source": [
    "a={\"a\",\"b\",\"c\",\"d\"}\n",
    "for x in a:\n",
    "    print(x)"
   ]
  },
  {
   "cell_type": "markdown",
   "metadata": {},
   "source": [
    "check if \"items\" is preset"
   ]
  },
  {
   "cell_type": "code",
   "execution_count": 25,
   "metadata": {},
   "outputs": [
    {
     "name": "stdout",
     "output_type": "stream",
     "text": [
      "False\n"
     ]
    }
   ],
   "source": [
    "a ={\"data\",\"python\",\"code\"}\n",
    "print(\"anlyst\" in a) "
   ]
  },
  {
   "cell_type": "markdown",
   "metadata": {},
   "source": [
    "add items"
   ]
  },
  {
   "cell_type": "code",
   "execution_count": 26,
   "metadata": {},
   "outputs": [
    {
     "name": "stdout",
     "output_type": "stream",
     "text": [
      "{'b', 'a', 'z', 'd', 'c'}\n"
     ]
    }
   ],
   "source": [
    "a={\"a\",\"b\",\"c\",\"d\"}\n",
    "a.add(\"z\")\n",
    "print(a)"
   ]
  },
  {
   "cell_type": "code",
   "execution_count": 27,
   "metadata": {},
   "outputs": [
    {
     "name": "stdout",
     "output_type": "stream",
     "text": [
      "{'code', 40, 10, 50, 20, 30, 'data', 'python'}\n"
     ]
    }
   ],
   "source": [
    "x ={\"data\",\"python\",\"code\"}\n",
    "y={10,20,30,40,50}\n",
    "x.update(y)\n",
    "print(x)"
   ]
  },
  {
   "cell_type": "markdown",
   "metadata": {},
   "source": [
    "remove set items"
   ]
  },
  {
   "cell_type": "code",
   "execution_count": 28,
   "metadata": {},
   "outputs": [
    {
     "name": "stdout",
     "output_type": "stream",
     "text": [
      "{'code', 10, 50, 20, 30, 'data', 'python'}\n"
     ]
    }
   ],
   "source": [
    "n={40, 10, 'data', 50, 20, 'python', 'code', 30}\n",
    "n.remove(40)\n",
    "print(n)"
   ]
  },
  {
   "cell_type": "code",
   "execution_count": 29,
   "metadata": {},
   "outputs": [
    {
     "name": "stdout",
     "output_type": "stream",
     "text": [
      "{'code', 10, 50, 20, 30, 'data'}\n"
     ]
    }
   ],
   "source": [
    "n.remove('python')\n",
    "print(n)"
   ]
  },
  {
   "cell_type": "code",
   "execution_count": 30,
   "metadata": {},
   "outputs": [
    {
     "name": "stdout",
     "output_type": "stream",
     "text": [
      "{10, 50, 20, 30, 'data'}\n"
     ]
    }
   ],
   "source": [
    "x=n.pop()\n",
    "print(n)"
   ]
  },
  {
   "cell_type": "code",
   "execution_count": 31,
   "metadata": {},
   "outputs": [
    {
     "name": "stdout",
     "output_type": "stream",
     "text": [
      "set()\n"
     ]
    }
   ],
   "source": [
    "n.clear()\n",
    "print(n)"
   ]
  },
  {
   "cell_type": "code",
   "execution_count": 32,
   "metadata": {},
   "outputs": [
    {
     "ename": "NameError",
     "evalue": "name 'n' is not defined",
     "output_type": "error",
     "traceback": [
      "\u001b[1;31m---------------------------------------------------------------------------\u001b[0m",
      "\u001b[1;31mNameError\u001b[0m                                 Traceback (most recent call last)",
      "\u001b[1;32mc:\\Users\\HP\\Documents\\HARSHIT\\day11.ipynb Cell 27\u001b[0m line \u001b[0;36m3\n\u001b[0;32m      <a href='vscode-notebook-cell:/c%3A/Users/HP/Documents/HARSHIT/day11.ipynb#X35sZmlsZQ%3D%3D?line=0'>1</a>\u001b[0m n\u001b[39m=\u001b[39m{\u001b[39m40\u001b[39m, \u001b[39m10\u001b[39m, \u001b[39m'\u001b[39m\u001b[39mdata\u001b[39m\u001b[39m'\u001b[39m, \u001b[39m50\u001b[39m, \u001b[39m20\u001b[39m, \u001b[39m'\u001b[39m\u001b[39mpython\u001b[39m\u001b[39m'\u001b[39m, \u001b[39m'\u001b[39m\u001b[39mcode\u001b[39m\u001b[39m'\u001b[39m, \u001b[39m30\u001b[39m}\n\u001b[0;32m      <a href='vscode-notebook-cell:/c%3A/Users/HP/Documents/HARSHIT/day11.ipynb#X35sZmlsZQ%3D%3D?line=1'>2</a>\u001b[0m \u001b[39mdel\u001b[39;00m n\n\u001b[1;32m----> <a href='vscode-notebook-cell:/c%3A/Users/HP/Documents/HARSHIT/day11.ipynb#X35sZmlsZQ%3D%3D?line=2'>3</a>\u001b[0m \u001b[39mprint\u001b[39m(n)\n",
      "\u001b[1;31mNameError\u001b[0m: name 'n' is not defined"
     ]
    }
   ],
   "source": [
    "n={40, 10, 'data', 50, 20, 'python', 'code', 30}\n",
    "del n\n",
    "print(n)"
   ]
  },
  {
   "cell_type": "markdown",
   "metadata": {},
   "source": [
    "join two sets"
   ]
  },
  {
   "cell_type": "code",
   "execution_count": null,
   "metadata": {},
   "outputs": [
    {
     "name": "stdout",
     "output_type": "stream",
     "text": [
      "{'a', 1, 2, 3, 4, 5, 6, 'c', 'b', 'd'}\n"
     ]
    }
   ],
   "source": [
    "a={\"a\",\"b\",\"c\",\"d\"}\n",
    "b={1,2,3,4,5,6}\n",
    "z=a.union(b)\n",
    "print(z)"
   ]
  },
  {
   "cell_type": "markdown",
   "metadata": {},
   "source": [
    "Write a python program to find the max and min vlaues"
   ]
  },
  {
   "cell_type": "code",
   "execution_count": 33,
   "metadata": {},
   "outputs": [
    {
     "name": "stdout",
     "output_type": "stream",
     "text": [
      "89\n",
      "12\n"
     ]
    }
   ],
   "source": [
    "k={24,67,23,12,67,89,45,34,66,}\n",
    "print(max(k))\n",
    "print(min(k))"
   ]
  },
  {
   "cell_type": "markdown",
   "metadata": {},
   "source": [
    "return a new set of the identical items from twosets"
   ]
  },
  {
   "cell_type": "code",
   "execution_count": 34,
   "metadata": {},
   "outputs": [
    {
     "name": "stdout",
     "output_type": "stream",
     "text": [
      "{50, 20, 60}\n"
     ]
    }
   ],
   "source": [
    "p={10,20,30,40,50,60}\n",
    "k={50,60,20,70,80,90}\n",
    "print(p.intersection(k))"
   ]
  }
 ],
 "metadata": {
  "kernelspec": {
   "display_name": "base",
   "language": "python",
   "name": "python3"
  },
  "language_info": {
   "codemirror_mode": {
    "name": "ipython",
    "version": 3
   },
   "file_extension": ".py",
   "mimetype": "text/x-python",
   "name": "python",
   "nbconvert_exporter": "python",
   "pygments_lexer": "ipython3",
   "version": "3.10.10"
  },
  "orig_nbformat": 4
 },
 "nbformat": 4,
 "nbformat_minor": 2
}
